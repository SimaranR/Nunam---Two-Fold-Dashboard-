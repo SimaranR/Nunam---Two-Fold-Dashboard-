{
 "cells": [
  {
   "cell_type": "markdown",
   "id": "859f706b",
   "metadata": {},
   "source": [
    "<center>\n",
    "<h1 style=\"font-size: 50px; font-family: serif;\">Two Fold Dashboard</h1>\n",
    "</center>"
   ]
  },
  {
   "cell_type": "markdown",
   "id": "4da40b30",
   "metadata": {},
   "source": [
    "\n",
    "# Define the HTML content\n",
    "\n",
    "<html>\n",
    "<head>\n",
    "    <title>Documentation</title>\n",
    "    <style>\n",
    "        body {font-family: Arial, sans-serif; margin: 20px;}\n",
    "        h1 {color: #333;}\n",
    "        h2 {color: #555;}\n",
    "        ul {line-height: 1.8;}\n",
    "    </style>\n",
    "</head>\n",
    "<body>\n",
    "\n",
    "\n",
    "<p>This module is a Dash web application for visualizing battery cell data.</p>\n",
    "\n",
    "<h2>Features:</h2>\n",
    "<ul>\n",
    "    <li>Displays a dashboard with State of Health (SoH) for different battery cells.</li>\n",
    "    <li>Provides interactive visualizations including pie charts and line graphs.</li>\n",
    "    <li>Supports dynamic updates based on user interactions with dropdowns and buttons.</li>\n",
    "</ul>\n",
    "\n",
    "<h2>Dependencies:</h2>\n",
    "<ul>\n",
    "    <li>Dash</li>\n",
    "    <li>Plotly</li>\n",
    "    <li>Pandas</li>\n",
    "    <li>Requests</li>\n",
    "    <li>Flask</li>\n",
    "</ul>\n",
    "\n",
    "<h2>Functions:</h2>\n",
    "<ul>\n",
    "    <li><strong>fetch_cell_data(cell_id)</strong>: Fetches data for the specified cell ID from the REST API.</li>\n",
    "    <li><strong>toggle_dropdown_visibility(n_clicks)</strong>: Toggles the visibility of the dropdown menu.</li>\n",
    "    <li><strong>display_page(dashboard_n_clicks, cell_id)</strong>: Displays the appropriate page content based on user interactions.</li>\n",
    "    <li><strong>create_cell_visualizations(cell_id)</strong>: Generates visualizations for the selected cell ID.</li>\n",
    "</ul>\n",
    "\n",
    "<h2>Usage:</h2>\n",
    "<p>Run this script to start the Dash server. Access the dashboard at <a href=\"http://localhost:8080\">http://localhost:8080</a>.</p>\n",
    "\n",
    "</body>\n",
    "</html>\n",
    "\n"
   ]
  },
  {
   "cell_type": "markdown",
   "id": "33d4c969",
   "metadata": {},
   "source": [
    "# import important libraries"
   ]
  },
  {
   "cell_type": "code",
   "execution_count": 1,
   "id": "89501842",
   "metadata": {},
   "outputs": [],
   "source": [
    "import pandas as pd\n",
    "import numpy as np"
   ]
  },
  {
   "cell_type": "markdown",
   "id": "39aa8564",
   "metadata": {},
   "source": [
    "# Define function and load excel file"
   ]
  },
  {
   "cell_type": "code",
   "execution_count": 2,
   "id": "84bf8839",
   "metadata": {},
   "outputs": [],
   "source": [
    "def load_excel_files(file_paths, cell_id):\n",
    "    dfs = {}\n",
    "    for file_path in file_paths:\n",
    "        sheet_names = pd.ExcelFile(file_path).sheet_names\n",
    "        for sheet_name in sheet_names:\n",
    "            df = pd.read_excel(file_path, sheet_name=sheet_name)\n",
    "            df['CellId'] = cell_id\n",
    "            if sheet_name in dfs:\n",
    "                dfs[sheet_name] = pd.concat([dfs[sheet_name], df], ignore_index=True)\n",
    "            else:\n",
    "                dfs[sheet_name] = df\n",
    "    return dfs"
   ]
  },
  {
   "cell_type": "markdown",
   "id": "31583a2a",
   "metadata": {},
   "source": [
    "# Define file path and then load the excel files"
   ]
  },
  {
   "cell_type": "code",
   "execution_count": 3,
   "id": "6c52b445",
   "metadata": {},
   "outputs": [],
   "source": [
    "file_paths_5308 = ['5308.xls']\n",
    "file_paths_5329 = ['5329.xls']\n",
    "\n",
    "dfs_5308 = load_excel_files(file_paths_5308, '5308')\n",
    "dfs_5329 = load_excel_files(file_paths_5329, '5329')\n"
   ]
  },
  {
   "cell_type": "markdown",
   "id": "539ce021",
   "metadata": {},
   "source": [
    "# Calculate the State of Health"
   ]
  },
  {
   "cell_type": "code",
   "execution_count": 4,
   "id": "85a8329e",
   "metadata": {},
   "outputs": [
    {
     "name": "stdout",
     "output_type": "stream",
     "text": [
      "{'5308': 99.734, '5329': 94.08533333333334}\n"
     ]
    }
   ],
   "source": [
    "#Define Discharge Capacities and Nominal Capacity\n",
    "discharge_capacities = {'5308': 2992.02, '5329': 2822.56}\n",
    "nominal_capacity = 3000\n",
    "\n",
    "#Define Function to Calculate State of Health\n",
    "def calculate_soh(discharge_capacity, nominal_capacity):\n",
    "    return (discharge_capacity / nominal_capacity) * 100\n",
    "\n",
    "#Calculate State of Health for Each Cell ID\n",
    "soh = {cell_id: calculate_soh(capacity, nominal_capacity) for cell_id, capacity in discharge_capacities.items()}\n",
    "print(soh)\n"
   ]
  },
  {
   "cell_type": "code",
   "execution_count": 5,
   "id": "37d0b31d",
   "metadata": {},
   "outputs": [
    {
     "name": "stdout",
     "output_type": "stream",
     "text": [
      "Requirement already satisfied: dash in c:\\users\\asus\\anaconda3\\lib\\site-packages (2.17.1)Note: you may need to restart the kernel to use updated packages.\n"
     ]
    },
    {
     "name": "stderr",
     "output_type": "stream",
     "text": [
      "WARNING: Ignoring invalid distribution -atplotlib (c:\\users\\asus\\anaconda3\\lib\\site-packages)\n",
      "WARNING: Ignoring invalid distribution -atplotlib (c:\\users\\asus\\anaconda3\\lib\\site-packages)\n",
      "WARNING: Ignoring invalid distribution -atplotlib (c:\\users\\asus\\anaconda3\\lib\\site-packages)\n",
      "WARNING: Ignoring invalid distribution -atplotlib (c:\\users\\asus\\anaconda3\\lib\\site-packages)\n",
      "WARNING: Ignoring invalid distribution -atplotlib (c:\\users\\asus\\anaconda3\\lib\\site-packages)\n",
      "WARNING: Ignoring invalid distribution -atplotlib (c:\\users\\asus\\anaconda3\\lib\\site-packages)\n"
     ]
    },
    {
     "name": "stdout",
     "output_type": "stream",
     "text": [
      "\n",
      "Requirement already satisfied: plotly in c:\\users\\asus\\anaconda3\\lib\\site-packages (5.9.0)\n",
      "Requirement already satisfied: Flask<3.1,>=1.0.4 in c:\\users\\asus\\anaconda3\\lib\\site-packages (from dash) (3.0.3)\n",
      "Requirement already satisfied: setuptools in c:\\users\\asus\\anaconda3\\lib\\site-packages (from dash) (65.6.3)\n",
      "Requirement already satisfied: retrying in c:\\users\\asus\\anaconda3\\lib\\site-packages (from dash) (1.3.4)\n",
      "Requirement already satisfied: dash-html-components==2.0.0 in c:\\users\\asus\\anaconda3\\lib\\site-packages (from dash) (2.0.0)\n",
      "Requirement already satisfied: typing-extensions>=4.1.1 in c:\\users\\asus\\anaconda3\\lib\\site-packages (from dash) (4.12.2)\n",
      "Requirement already satisfied: nest-asyncio in c:\\users\\asus\\anaconda3\\lib\\site-packages (from dash) (1.5.6)\n",
      "Requirement already satisfied: importlib-metadata in c:\\users\\asus\\anaconda3\\lib\\site-packages (from dash) (4.11.3)\n",
      "Requirement already satisfied: dash-core-components==2.0.0 in c:\\users\\asus\\anaconda3\\lib\\site-packages (from dash) (2.0.0)\n",
      "Requirement already satisfied: requests in c:\\users\\asus\\anaconda3\\lib\\site-packages (from dash) (2.32.3)\n",
      "Requirement already satisfied: Werkzeug<3.1 in c:\\users\\asus\\anaconda3\\lib\\site-packages (from dash) (3.0.3)\n",
      "Requirement already satisfied: dash-table==5.0.0 in c:\\users\\asus\\anaconda3\\lib\\site-packages (from dash) (5.0.0)\n",
      "Requirement already satisfied: tenacity>=6.2.0 in c:\\users\\asus\\anaconda3\\lib\\site-packages (from plotly) (8.2.3)\n",
      "Requirement already satisfied: click>=8.1.3 in c:\\users\\asus\\anaconda3\\lib\\site-packages (from Flask<3.1,>=1.0.4->dash) (8.1.7)\n",
      "Requirement already satisfied: blinker>=1.6.2 in c:\\users\\asus\\anaconda3\\lib\\site-packages (from Flask<3.1,>=1.0.4->dash) (1.7.0)\n",
      "Requirement already satisfied: itsdangerous>=2.1.2 in c:\\users\\asus\\anaconda3\\lib\\site-packages (from Flask<3.1,>=1.0.4->dash) (2.2.0)\n",
      "Requirement already satisfied: Jinja2>=3.1.2 in c:\\users\\asus\\anaconda3\\lib\\site-packages (from Flask<3.1,>=1.0.4->dash) (3.1.2)\n",
      "Requirement already satisfied: MarkupSafe>=2.1.1 in c:\\users\\asus\\anaconda3\\lib\\site-packages (from Werkzeug<3.1->dash) (2.1.1)\n",
      "Requirement already satisfied: zipp>=0.5 in c:\\users\\asus\\anaconda3\\lib\\site-packages (from importlib-metadata->dash) (3.11.0)\n",
      "Requirement already satisfied: certifi>=2017.4.17 in c:\\users\\asus\\anaconda3\\lib\\site-packages (from requests->dash) (2022.12.7)\n",
      "Requirement already satisfied: urllib3<3,>=1.21.1 in c:\\users\\asus\\anaconda3\\lib\\site-packages (from requests->dash) (1.26.14)\n",
      "Requirement already satisfied: charset-normalizer<4,>=2 in c:\\users\\asus\\anaconda3\\lib\\site-packages (from requests->dash) (2.0.4)\n",
      "Requirement already satisfied: idna<4,>=2.5 in c:\\users\\asus\\anaconda3\\lib\\site-packages (from requests->dash) (3.4)\n",
      "Requirement already satisfied: six>=1.7.0 in c:\\users\\asus\\anaconda3\\lib\\site-packages (from retrying->dash) (1.16.0)\n",
      "Requirement already satisfied: colorama in c:\\users\\asus\\anaconda3\\lib\\site-packages (from click>=8.1.3->Flask<3.1,>=1.0.4->dash) (0.4.6)\n"
     ]
    }
   ],
   "source": [
    "pip install dash plotly"
   ]
  },
  {
   "cell_type": "code",
   "execution_count": 15,
   "id": "e7014768",
   "metadata": {},
   "outputs": [
    {
     "name": "stdout",
     "output_type": "stream",
     "text": [
      "Requirement already satisfied: requests in c:\\users\\asus\\anaconda3\\lib\\site-packages (2.32.3)\n",
      "Requirement already satisfied: certifi>=2017.4.17 in c:\\users\\asus\\anaconda3\\lib\\site-packages (from requests) (2022.12.7)\n",
      "Requirement already satisfied: idna<4,>=2.5 in c:\\users\\asus\\anaconda3\\lib\\site-packages (from requests) (3.4)\n",
      "Requirement already satisfied: charset-normalizer<4,>=2 in c:\\users\\asus\\anaconda3\\lib\\site-packages (from requests) (2.0.4)\n",
      "Requirement already satisfied: urllib3<3,>=1.21.1 in c:\\users\\asus\\anaconda3\\lib\\site-packages (from requests) (1.26.14)\n",
      "Note: you may need to restart the kernel to use updated packages.\n"
     ]
    },
    {
     "name": "stderr",
     "output_type": "stream",
     "text": [
      "WARNING: Ignoring invalid distribution -atplotlib (c:\\users\\asus\\anaconda3\\lib\\site-packages)\n",
      "WARNING: Ignoring invalid distribution -atplotlib (c:\\users\\asus\\anaconda3\\lib\\site-packages)\n",
      "WARNING: Ignoring invalid distribution -atplotlib (c:\\users\\asus\\anaconda3\\lib\\site-packages)\n",
      "WARNING: Ignoring invalid distribution -atplotlib (c:\\users\\asus\\anaconda3\\lib\\site-packages)\n",
      "WARNING: Ignoring invalid distribution -atplotlib (c:\\users\\asus\\anaconda3\\lib\\site-packages)\n",
      "WARNING: Ignoring invalid distribution -atplotlib (c:\\users\\asus\\anaconda3\\lib\\site-packages)\n"
     ]
    }
   ],
   "source": [
    "pip install requests"
   ]
  },
  {
   "cell_type": "markdown",
   "id": "491682b0",
   "metadata": {},
   "source": [
    "# import libraries to create the dashboard"
   ]
  },
  {
   "cell_type": "code",
   "execution_count": 7,
   "id": "3ce72a57",
   "metadata": {},
   "outputs": [
    {
     "name": "stderr",
     "output_type": "stream",
     "text": [
      "C:\\Users\\ASUS\\AppData\\Local\\Temp\\ipykernel_36880\\106017513.py:2: UserWarning: \n",
      "The dash_core_components package is deprecated. Please replace\n",
      "`import dash_core_components as dcc` with `from dash import dcc`\n",
      "  import dash_core_components as dcc\n",
      "C:\\Users\\ASUS\\AppData\\Local\\Temp\\ipykernel_36880\\106017513.py:3: UserWarning: \n",
      "The dash_html_components package is deprecated. Please replace\n",
      "`import dash_html_components as html` with `from dash import html`\n",
      "  import dash_html_components as html\n"
     ]
    }
   ],
   "source": [
    "import dash\n",
    "import dash_core_components as dcc\n",
    "import dash_html_components as html\n",
    "from dash.dependencies import Input, Output\n",
    "import requests\n",
    "import plotly.express as px"
   ]
  },
  {
   "cell_type": "markdown",
   "id": "668076b2",
   "metadata": {},
   "source": [
    "# Initialize the app to create DashBoard"
   ]
  },
  {
   "cell_type": "code",
   "execution_count": 8,
   "id": "94d337d9",
   "metadata": {
    "scrolled": true
   },
   "outputs": [
    {
     "data": {
      "text/html": [
       "\n",
       "        <iframe\n",
       "            width=\"100%\"\n",
       "            height=\"650\"\n",
       "            src=\"http://127.0.0.1:8080/\"\n",
       "            frameborder=\"0\"\n",
       "            allowfullscreen\n",
       "            \n",
       "        ></iframe>\n",
       "        "
      ],
      "text/plain": [
       "<IPython.lib.display.IFrame at 0x27f7be5a890>"
      ]
     },
     "metadata": {},
     "output_type": "display_data"
    }
   ],
   "source": [
    "# Initialize the app\n",
    "app = dash.Dash(__name__)\n",
    "\n",
    "\n",
    "app.layout = html.Div([\n",
    "    dcc.Location(id='url', refresh=False),\n",
    "    html.Div([\n",
    "        html.Div([\n",
    "            html.H2('Dashboard', className='sidebar-header', style={'color': 'white'}),\n",
    "            html.Button('Dashboard', id='dashboard-button', n_clicks=0, className='sidebar-button'),\n",
    "            html.Button('Cell ID', id='cell-id-button', n_clicks=0, className='sidebar-button'),\n",
    "            html.Div([\n",
    "                dcc.Dropdown(\n",
    "                    id='cell-dropdown',\n",
    "                    options=[\n",
    "                        {'label': 'Cell 5308', 'value': '5308'},\n",
    "                        {'label': 'Cell 5329', 'value': '5329'}\n",
    "                    ],\n",
    "                    value='5308',\n",
    "                    placeholder='Select Cell ID'  # Added placeholder\n",
    "                ),\n",
    "            ], id='dropdown-container', className='dropdown-container', style={'display': 'none'})\n",
    "        ], className='sidebar', style={'background-color': 'blue'}),\n",
    "        html.Div(id='page-content', className='content')\n",
    "    ], className='main-container')\n",
    "])\n",
    "\n",
    "@app.callback(\n",
    "    Output('dropdown-container', 'style'),\n",
    "    [Input('cell-id-button', 'n_clicks')]\n",
    ")\n",
    "def toggle_dropdown_visibility(n_clicks):\n",
    "    if n_clicks > 0:\n",
    "        return {'display': 'block'}  # Show the dropdown\n",
    "    return {'display': 'none'}  # Hide the dropdown\n",
    "\n",
    "@app.callback(\n",
    "    Output('page-content', 'children'),\n",
    "    [Input('dashboard-button', 'n_clicks'), Input('cell-dropdown', 'value')]\n",
    ")\n",
    "def display_page(dashboard_n_clicks, cell_id):\n",
    "    if dashboard_n_clicks > 0:\n",
    "        return html.Div([\n",
    "            html.H1('State of Health', style={'text-align': 'center'}),\n",
    "            html.Div([\n",
    "                dcc.Graph(\n",
    "                    id='pie-chart-5308',\n",
    "                    figure=px.pie(\n",
    "                        names=['Healthy', 'Unhealthy'],\n",
    "                        values=[soh['5308'], 100 - soh['5308']],\n",
    "                        title='Cell 5308 SoH'\n",
    "                    )\n",
    "                ),\n",
    "                dcc.Graph(\n",
    "                    id='pie-chart-5329',\n",
    "                    figure=px.pie(\n",
    "                        names=['Healthy', 'Unhealthy'],\n",
    "                        values=[soh['5329'], 100 - soh['5329']],\n",
    "                        title='Cell 5329 SoH'\n",
    "                    )\n",
    "                )\n",
    "            ], style={'display': 'flex', 'justify-content': 'space-around'})\n",
    "        ])\n",
    "    elif cell_id == '5308' or cell_id == '5329':\n",
    "        return create_cell_visualizations(cell_id)\n",
    "    return html.Div([html.H1('Welcome! Select a page from the sidebar.', style={'text-align': 'center'})])\n",
    "\n",
    "def create_cell_visualizations(cell_id):\n",
    "    # Select the data dictionary based on cell_id\n",
    "    if cell_id == '5308':\n",
    "        cell_data = dfs_5308\n",
    "        detail_key = 'Detail'\n",
    "        temp_key = 'DetailTemp'\n",
    "    elif cell_id == '5329':\n",
    "        cell_data = dfs_5329\n",
    "        detail_key = 'Detail_67_3_1$'\n",
    "        temp_key = 'DetailTemp_67_3_1$'\n",
    "    else:\n",
    "        return html.Div([html.H1(\"Invalid cell ID\")])\n",
    "\n",
    "    # Fetch the DataFrames based on the selected keys\n",
    "    detail_df = cell_data.get(detail_key)\n",
    "    temp_df = cell_data.get(temp_key)\n",
    "\n",
    "    # Check if the DataFrames exist\n",
    "    if detail_df is None:\n",
    "        return html.Div([html.H1(\"Data not found for cell ID\")])\n",
    "\n",
    "    # Create visualizations\n",
    "    fig1 = px.line(detail_df, x='Relative Time(h:min:s.ms)', y='Voltage(V)', title='Voltage vs Time')\n",
    "    fig2 = px.line(detail_df, x='Relative Time(h:min:s.ms)', y='Cur(mA)', title='Current vs Time')\n",
    "    fig3 = px.line(temp_df, x='Relative Time(h:min:s.ms)', y='Auxiliary channel TU1 T(°C)', title='Temperature vs Time')\n",
    "    fig4 = px.line(detail_df, x='Relative Time(h:min:s.ms)', y='CapaCity(mAh)', title='Capacity vs Time')\n",
    "\n",
    "    # Return the visualizations as a Div\n",
    "    return html.Div([\n",
    "        dcc.Graph(id=f'voltage-graph-{cell_id}', figure=fig1),\n",
    "        dcc.Graph(id=f'current-graph-{cell_id}', figure=fig2),\n",
    "        dcc.Graph(id=f'temperature-graph-{cell_id}', figure=fig3),\n",
    "        dcc.Graph(id=f'capacity-graph-{cell_id}', figure=fig4)\n",
    "    ])\n",
    "\n",
    "\n",
    "# Start the Dash server in debug mode on port 8080 for local testing.\n",
    "if __name__ == '__main__':\n",
    "    app.run_server(debug=True, port=8080)"
   ]
  },
  {
   "cell_type": "markdown",
   "id": "34d9073d",
   "metadata": {},
   "source": [
    "<center>\n",
    "<h1 style=\"font-size: 50px; font-family: serif;\">Thank You</h1>\n",
    "</center>"
   ]
  }
 ],
 "metadata": {
  "kernelspec": {
   "display_name": "Python 3 (ipykernel)",
   "language": "python",
   "name": "python3"
  },
  "language_info": {
   "codemirror_mode": {
    "name": "ipython",
    "version": 3
   },
   "file_extension": ".py",
   "mimetype": "text/x-python",
   "name": "python",
   "nbconvert_exporter": "python",
   "pygments_lexer": "ipython3",
   "version": "3.10.9"
  }
 },
 "nbformat": 4,
 "nbformat_minor": 5
}
